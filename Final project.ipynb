{
 "cells": [
  {
   "cell_type": "markdown",
   "id": "9a2c4d04",
   "metadata": {},
   "source": [
    "## Price prediction using Brownian motion with drift\n",
    "\n",
    "#### Some imports"
   ]
  },
  {
   "cell_type": "code",
   "execution_count": 1,
   "id": "eb6a181c",
   "metadata": {},
   "outputs": [],
   "source": [
    "import numpy as np  \n",
    "import pandas as pd  \n",
    "from pandas_datareader import data as wb  \n",
    "import matplotlib.pyplot as plt  \n",
    "from scipy.stats import norm\n",
    "from tqdm.notebook import tqdm\n",
    "%matplotlib inline\n",
    "#use %matplotlib notebook for interactive"
   ]
  },
  {
   "cell_type": "markdown",
   "id": "9461018f",
   "metadata": {},
   "source": [
    "#### We're choosing the stock called SPY. End-of-day prices are taken starting from 2007 and put into a series"
   ]
  },
  {
   "cell_type": "code",
   "execution_count": 2,
   "id": "3d013616",
   "metadata": {},
   "outputs": [],
   "source": [
    "ticker = 'SPY' \n",
    "data_series = pd.Series(dtype='float64')\n",
    "data_series = wb.DataReader(ticker, data_source='yahoo', start='2007-1-1')['Adj Close']"
   ]
  },
  {
   "cell_type": "code",
   "execution_count": 3,
   "id": "f49a45ab",
   "metadata": {},
   "outputs": [],
   "source": [
    "def optimize_drift(past_prices, test_size, simulations=10, resolution=2, scale=1, chop=0):\n",
    "    if chop == 0:\n",
    "        test_set = past_prices[-1*test_size:]\n",
    "        past_prices = past_prices[0:len(past_prices)-test_size]\n",
    "    if chop != 0:\n",
    "        test_set = past_prices[-1*test_size-chop:-1*chop]\n",
    "        past_prices = past_prices[0:len(past_prices)-test_size-chop]\n",
    "    log_ret = np.log(1 + past_prices.pct_change())\n",
    "    sample_mu = log_ret.mean()\n",
    "    sample_var = log_ret.var()\n",
    "    h_results = np.zeros((10**(resolution+1)//scale, 2))\n",
    "    first = past_prices[-1]\n",
    "    for h in range(len(h_results)//-2,len(h_results)//2,1):\n",
    "        h_results[h,0] = h/(10**(resolution-2))\n",
    "        h_results[h,1] = simulation_results(h/(10**(resolution-2)), test_size, sample_mu, sample_var, simulations, first, test_set)\n",
    "    h_results = h_results[1:]\n",
    "    return h_results"
   ]
  },
  {
   "cell_type": "code",
   "execution_count": 4,
   "id": "09b412c8",
   "metadata": {},
   "outputs": [],
   "source": [
    "def simulation_results(h, test_size, sample_mu, sample_var, simulations, first, test_set):\n",
    "    h_drift = sample_mu - (h * sample_var)\n",
    "    sample_stdev = np.sqrt(sample_var)\n",
    "    h_returns = np.exp(h_drift + sample_stdev * norm.ppf(np.random.rand(test_size, simulations)))\n",
    "    h_prices = np.zeros_like(h_returns)\n",
    "    h_prices[0] = first\n",
    "    for t in range(1, test_size):\n",
    "        h_prices[t] = h_prices[t - 1] * h_returns[t]\n",
    "    average = sum(h_prices[-1])/len(h_prices[-1])\n",
    "    losses = abs(test_set[-1] - average)\n",
    "    return losses"
   ]
  },
  {
   "cell_type": "code",
   "execution_count": 8,
   "id": "8f7a0632",
   "metadata": {},
   "outputs": [
    {
     "data": {
      "image/png": "[encoded data removed]",
      "text/plain": [
       "<Figure size 360x216 with 1 Axes>"
      ]
     },
     "metadata": {
      "needs_background": "light"
     },
     "output_type": "display_data"
    }
   ],
   "source": [
    "testing_optimization = optimize_drift(data_series, test_size=2, simulations=100, resolution=2, scale=1, chop=3)\n",
    "t_o_df = pd.DataFrame(testing_optimization, columns = ['h','loss']).sort_values(by=['h'])\n",
    "t_o_df.plot(x='h', y='loss', figsize=(5, 3));\n",
    "plt.title('chop=69')\n",
    "plt.show()"
   ]
  },
  {
   "cell_type": "code",
   "execution_count": null,
   "id": "f4c4af56",
   "metadata": {},
   "outputs": [],
   "source": [
    "for i in range(3750):\n",
    "    testing_optimization = optimize_drift(data_series, test_size=2, simulations=100, resolution=2, scale=1, chop=i)\n",
    "    t_o_df = pd.DataFrame(testing_optimization, columns = ['h','loss']).sort_values(by=['h'])\n",
    "    t_o_df.plot(x='h', y='loss', figsize=(5, 3));\n",
    "    plt.title('chop='+str(i))\n",
    "    plt.show()"
   ]
  },
  {
   "cell_type": "code",
   "execution_count": 368,
   "id": "8001c3fe",
   "metadata": {},
   "outputs": [
    {
     "data": {
      "text/plain": [
       "Date\n",
       "2007-01-03     41.589966\n",
       "2007-01-04     41.274235\n",
       "2007-01-05     40.919800\n",
       "2007-01-08     41.010010\n",
       "2007-01-09     40.906910\n",
       "                 ...    \n",
       "2021-12-01    146.399994\n",
       "2021-12-02    147.259995\n",
       "2021-12-03    149.880005\n",
       "2021-12-06    152.149994\n",
       "2021-12-07    152.070007\n",
       "Name: Adj Close, Length: 3760, dtype: float64"
      ]
     },
     "execution_count": 368,
     "metadata": {},
     "output_type": "execute_result"
    }
   ],
   "source": [
    "data_series"
   ]
  },
  {
   "cell_type": "code",
   "execution_count": 215,
   "id": "bb163053",
   "metadata": {},
   "outputs": [
    {
     "data": {
      "text/html": [
       "<div>\n",
       "<style scoped>\n",
       "    .dataframe tbody tr th:only-of-type {\n",
       "        vertical-align: middle;\n",
       "    }\n",
       "\n",
       "    .dataframe tbody tr th {\n",
       "        vertical-align: top;\n",
       "    }\n",
       "\n",
       "    .dataframe thead th {\n",
       "        text-align: right;\n",
       "    }\n",
       "</style>\n",
       "<table border=\"1\" class=\"dataframe\">\n",
       "  <thead>\n",
       "    <tr style=\"text-align: right;\">\n",
       "      <th></th>\n",
       "      <th>h</th>\n",
       "      <th>loss</th>\n",
       "    </tr>\n",
       "  </thead>\n",
       "  <tbody>\n",
       "    <tr>\n",
       "      <th>0</th>\n",
       "      <td>0.1</td>\n",
       "      <td>3.935829</td>\n",
       "    </tr>\n",
       "    <tr>\n",
       "      <th>1</th>\n",
       "      <td>0.2</td>\n",
       "      <td>4.142099</td>\n",
       "    </tr>\n",
       "    <tr>\n",
       "      <th>2</th>\n",
       "      <td>0.3</td>\n",
       "      <td>3.812023</td>\n",
       "    </tr>\n",
       "    <tr>\n",
       "      <th>3</th>\n",
       "      <td>0.4</td>\n",
       "      <td>4.700581</td>\n",
       "    </tr>\n",
       "    <tr>\n",
       "      <th>4</th>\n",
       "      <td>0.5</td>\n",
       "      <td>4.256517</td>\n",
       "    </tr>\n",
       "    <tr>\n",
       "      <th>...</th>\n",
       "      <td>...</td>\n",
       "      <td>...</td>\n",
       "    </tr>\n",
       "    <tr>\n",
       "      <th>999994</th>\n",
       "      <td>99999.5</td>\n",
       "      <td>144.580002</td>\n",
       "    </tr>\n",
       "    <tr>\n",
       "      <th>999995</th>\n",
       "      <td>99999.6</td>\n",
       "      <td>144.580002</td>\n",
       "    </tr>\n",
       "    <tr>\n",
       "      <th>999996</th>\n",
       "      <td>99999.7</td>\n",
       "      <td>144.580002</td>\n",
       "    </tr>\n",
       "    <tr>\n",
       "      <th>999997</th>\n",
       "      <td>99999.8</td>\n",
       "      <td>144.580002</td>\n",
       "    </tr>\n",
       "    <tr>\n",
       "      <th>999998</th>\n",
       "      <td>99999.9</td>\n",
       "      <td>144.580002</td>\n",
       "    </tr>\n",
       "  </tbody>\n",
       "</table>\n",
       "<p>999999 rows × 2 columns</p>\n",
       "</div>"
      ],
      "text/plain": [
       "              h        loss\n",
       "0           0.1    3.935829\n",
       "1           0.2    4.142099\n",
       "2           0.3    3.812023\n",
       "3           0.4    4.700581\n",
       "4           0.5    4.256517\n",
       "...         ...         ...\n",
       "999994  99999.5  144.580002\n",
       "999995  99999.6  144.580002\n",
       "999996  99999.7  144.580002\n",
       "999997  99999.8  144.580002\n",
       "999998  99999.9  144.580002\n",
       "\n",
       "[999999 rows x 2 columns]"
      ]
     },
     "execution_count": 215,
     "metadata": {},
     "output_type": "execute_result"
    }
   ],
   "source": [
    "t_o_df"
   ]
  },
  {
   "cell_type": "code",
   "execution_count": 9,
   "id": "353f6130",
   "metadata": {},
   "outputs": [],
   "source": [
    "def optimal_h_distribution(samples=100, res=1):\n",
    "    h_results = []\n",
    "    for _ in tqdm(range(samples)):\n",
    "        sample = optimize_drift(data_series, test_size=2, simulations=100, resolution=2, scale=1, chop=3)\n",
    "        sample_df = pd.DataFrame(sample)\n",
    "        h_results.append((sample_df.index[sample_df[1] == sample_df[1].min()].tolist()[0])/(10**(res-2)))\n",
    "    return h_results"
   ]
  },
  {
   "cell_type": "code",
   "execution_count": 11,
   "id": "8c479c5a",
   "metadata": {},
   "outputs": [
    {
     "data": {
      "application/vnd.jupyter.widget-view+json": {
       "model_id": "56535b4fdbaf42db9472514c5b504578",
       "version_major": 2,
       "version_minor": 0
      },
      "text/plain": [
       "  0%|          | 0/100 [00:00<?, ?it/s]"
      ]
     },
     "metadata": {},
     "output_type": "display_data"
    }
   ],
   "source": [
    "trying_h = optimal_h_distribution()"
   ]
  },
  {
   "cell_type": "code",
   "execution_count": 12,
   "id": "86569eb0",
   "metadata": {},
   "outputs": [
    {
     "name": "stdout",
     "output_type": "stream",
     "text": [
      "Optimal h is 9710.0\n"
     ]
    },
    {
     "data": {
      "image/png": "[encoded data removed]",
      "text/plain": [
       "<Figure size 432x288 with 1 Axes>"
      ]
     },
     "metadata": {
      "needs_background": "light"
     },
     "output_type": "display_data"
    }
   ],
   "source": [
    "bins = plt.hist(trying_h, bins=100, density=True, color=None, label=None, stacked=False)\n",
    "print(\"Optimal h is % s\" % (max(set(trying_h), key = trying_h.count)))"
   ]
  },
  {
   "cell_type": "code",
   "execution_count": null,
   "id": "f5c854fe",
   "metadata": {},
   "outputs": [],
   "source": []
  }
 ],
 "metadata": {
  "kernelspec": {
   "display_name": "Python 3 (ipykernel)",
   "language": "python",
   "name": "python3"
  },
  "language_info": {
   "codemirror_mode": {
    "name": "ipython",
    "version": 3
   },
   "file_extension": ".py",
   "mimetype": "text/x-python",
   "name": "python",
   "nbconvert_exporter": "python",
   "pygments_lexer": "ipython3",
   "version": "3.9.5"
  }
 },
 "nbformat": 4,
 "nbformat_minor": 5
}
