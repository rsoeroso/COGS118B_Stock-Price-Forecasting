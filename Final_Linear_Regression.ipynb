{
 "cells": [
  {
   "cell_type": "markdown",
   "id": "3a57eaca-3c8f-4586-a9f7-eed2153fab00",
   "metadata": {
    "tags": []
   },
   "source": [
    "## Import Packages"
   ]
  },
  {
   "cell_type": "code",
   "execution_count": 1,
   "id": "59488545-492b-49f0-bd26-90ff9d7ba3ff",
   "metadata": {},
   "outputs": [],
   "source": [
    "import pandas as pd\n",
    "import pandas_ta\n",
    "import statsmodels.api as sm\n",
    "from pandas_datareader import data as wb\n",
    "from sklearn.metrics import accuracy_score\n",
    "from sklearn.preprocessing import MinMaxScaler\n",
    "\n",
    "from datetime import timedelta\n",
    "import numpy as np\n",
    "from sklearn import metrics\n",
    "from sklearn.metrics import mean_squared_error, r2_score, mean_absolute_error\n",
    "from sklearn.model_selection import train_test_split\n",
    "from sklearn.linear_model import LogisticRegression\n",
    "from sklearn.linear_model import LinearRegression\n",
    "import matplotlib.pyplot as plt"
   ]
  },
  {
   "cell_type": "markdown",
   "id": "55209a87-e752-4b31-ab3c-3f5e0dab2586",
   "metadata": {},
   "source": [
    "## DataSet"
   ]
  },
  {
   "cell_type": "code",
   "execution_count": 2,
   "id": "57162625-ae28-43e0-8be4-3e70f56f5f2f",
   "metadata": {},
   "outputs": [],
   "source": [
    "ticker = 'SPY'\n",
    "data = wb.DataReader(ticker, data_source='yahoo', start='2007-1-1')\n",
    "\n",
    "data.reset_index(inplace=True)           "
   ]
  },
  {
   "cell_type": "code",
   "execution_count": 3,
   "id": "8379438a-192d-45dd-8b96-ab006177c400",
   "metadata": {},
   "outputs": [
    {
     "data": {
      "text/html": [
       "<div>\n",
       "<style scoped>\n",
       "    .dataframe tbody tr th:only-of-type {\n",
       "        vertical-align: middle;\n",
       "    }\n",
       "\n",
       "    .dataframe tbody tr th {\n",
       "        vertical-align: top;\n",
       "    }\n",
       "\n",
       "    .dataframe thead th {\n",
       "        text-align: right;\n",
       "    }\n",
       "</style>\n",
       "<table border=\"1\" class=\"dataframe\">\n",
       "  <thead>\n",
       "    <tr style=\"text-align: right;\">\n",
       "      <th></th>\n",
       "      <th>Date</th>\n",
       "      <th>High</th>\n",
       "      <th>Low</th>\n",
       "      <th>Open</th>\n",
       "      <th>Close</th>\n",
       "      <th>Volume</th>\n",
       "      <th>Adj Close</th>\n",
       "    </tr>\n",
       "  </thead>\n",
       "  <tbody>\n",
       "    <tr>\n",
       "      <th>0</th>\n",
       "      <td>2007-01-03</td>\n",
       "      <td>142.860001</td>\n",
       "      <td>140.570007</td>\n",
       "      <td>142.250000</td>\n",
       "      <td>141.369995</td>\n",
       "      <td>94807600.0</td>\n",
       "      <td>105.446762</td>\n",
       "    </tr>\n",
       "    <tr>\n",
       "      <th>1</th>\n",
       "      <td>2007-01-04</td>\n",
       "      <td>142.050003</td>\n",
       "      <td>140.610001</td>\n",
       "      <td>141.229996</td>\n",
       "      <td>141.669998</td>\n",
       "      <td>69620600.0</td>\n",
       "      <td>105.670479</td>\n",
       "    </tr>\n",
       "    <tr>\n",
       "      <th>2</th>\n",
       "      <td>2007-01-05</td>\n",
       "      <td>141.399994</td>\n",
       "      <td>140.380005</td>\n",
       "      <td>141.330002</td>\n",
       "      <td>140.539993</td>\n",
       "      <td>76645300.0</td>\n",
       "      <td>104.827637</td>\n",
       "    </tr>\n",
       "    <tr>\n",
       "      <th>3</th>\n",
       "      <td>2007-01-08</td>\n",
       "      <td>141.410004</td>\n",
       "      <td>140.250000</td>\n",
       "      <td>140.820007</td>\n",
       "      <td>141.190002</td>\n",
       "      <td>71655000.0</td>\n",
       "      <td>105.312469</td>\n",
       "    </tr>\n",
       "    <tr>\n",
       "      <th>4</th>\n",
       "      <td>2007-01-09</td>\n",
       "      <td>141.600006</td>\n",
       "      <td>140.399994</td>\n",
       "      <td>141.309998</td>\n",
       "      <td>141.070007</td>\n",
       "      <td>75680100.0</td>\n",
       "      <td>105.222977</td>\n",
       "    </tr>\n",
       "  </tbody>\n",
       "</table>\n",
       "</div>"
      ],
      "text/plain": [
       "        Date        High         Low        Open       Close      Volume  \\\n",
       "0 2007-01-03  142.860001  140.570007  142.250000  141.369995  94807600.0   \n",
       "1 2007-01-04  142.050003  140.610001  141.229996  141.669998  69620600.0   \n",
       "2 2007-01-05  141.399994  140.380005  141.330002  140.539993  76645300.0   \n",
       "3 2007-01-08  141.410004  140.250000  140.820007  141.190002  71655000.0   \n",
       "4 2007-01-09  141.600006  140.399994  141.309998  141.070007  75680100.0   \n",
       "\n",
       "    Adj Close  \n",
       "0  105.446762  \n",
       "1  105.670479  \n",
       "2  104.827637  \n",
       "3  105.312469  \n",
       "4  105.222977  "
      ]
     },
     "execution_count": 3,
     "metadata": {},
     "output_type": "execute_result"
    }
   ],
   "source": [
    "#Summary Statistics\n",
    "data.head()"
   ]
  },
  {
   "cell_type": "code",
   "execution_count": 4,
   "id": "1bc956c9-d7d5-4ec7-ab79-c0e0a25bc661",
   "metadata": {},
   "outputs": [
    {
     "data": {
      "text/html": [
       "<div>\n",
       "<style scoped>\n",
       "    .dataframe tbody tr th:only-of-type {\n",
       "        vertical-align: middle;\n",
       "    }\n",
       "\n",
       "    .dataframe tbody tr th {\n",
       "        vertical-align: top;\n",
       "    }\n",
       "\n",
       "    .dataframe thead th {\n",
       "        text-align: right;\n",
       "    }\n",
       "</style>\n",
       "<table border=\"1\" class=\"dataframe\">\n",
       "  <thead>\n",
       "    <tr style=\"text-align: right;\">\n",
       "      <th></th>\n",
       "      <th>Date</th>\n",
       "      <th>Adj Close</th>\n",
       "    </tr>\n",
       "  </thead>\n",
       "  <tbody>\n",
       "    <tr>\n",
       "      <th>0</th>\n",
       "      <td>2007-01-03</td>\n",
       "      <td>105.446762</td>\n",
       "    </tr>\n",
       "    <tr>\n",
       "      <th>1</th>\n",
       "      <td>2007-01-04</td>\n",
       "      <td>105.670479</td>\n",
       "    </tr>\n",
       "    <tr>\n",
       "      <th>2</th>\n",
       "      <td>2007-01-05</td>\n",
       "      <td>104.827637</td>\n",
       "    </tr>\n",
       "    <tr>\n",
       "      <th>3</th>\n",
       "      <td>2007-01-08</td>\n",
       "      <td>105.312469</td>\n",
       "    </tr>\n",
       "    <tr>\n",
       "      <th>4</th>\n",
       "      <td>2007-01-09</td>\n",
       "      <td>105.222977</td>\n",
       "    </tr>\n",
       "    <tr>\n",
       "      <th>...</th>\n",
       "      <td>...</td>\n",
       "      <td>...</td>\n",
       "    </tr>\n",
       "    <tr>\n",
       "      <th>3756</th>\n",
       "      <td>2021-12-02</td>\n",
       "      <td>457.399994</td>\n",
       "    </tr>\n",
       "    <tr>\n",
       "      <th>3757</th>\n",
       "      <td>2021-12-03</td>\n",
       "      <td>453.420013</td>\n",
       "    </tr>\n",
       "    <tr>\n",
       "      <th>3758</th>\n",
       "      <td>2021-12-06</td>\n",
       "      <td>458.790009</td>\n",
       "    </tr>\n",
       "    <tr>\n",
       "      <th>3759</th>\n",
       "      <td>2021-12-07</td>\n",
       "      <td>468.279999</td>\n",
       "    </tr>\n",
       "    <tr>\n",
       "      <th>3760</th>\n",
       "      <td>2021-12-08</td>\n",
       "      <td>468.679993</td>\n",
       "    </tr>\n",
       "  </tbody>\n",
       "</table>\n",
       "<p>3761 rows × 2 columns</p>\n",
       "</div>"
      ],
      "text/plain": [
       "           Date   Adj Close\n",
       "0    2007-01-03  105.446762\n",
       "1    2007-01-04  105.670479\n",
       "2    2007-01-05  104.827637\n",
       "3    2007-01-08  105.312469\n",
       "4    2007-01-09  105.222977\n",
       "...         ...         ...\n",
       "3756 2021-12-02  457.399994\n",
       "3757 2021-12-03  453.420013\n",
       "3758 2021-12-06  458.790009\n",
       "3759 2021-12-07  468.279999\n",
       "3760 2021-12-08  468.679993\n",
       "\n",
       "[3761 rows x 2 columns]"
      ]
     },
     "execution_count": 4,
     "metadata": {},
     "output_type": "execute_result"
    }
   ],
   "source": [
    "data.set_index(pd.DatetimeIndex(data['Date']), inplace=True)\n",
    "df = data[['Adj Close']]\n",
    "df.reset_index(inplace=True) \n",
    "\n",
    "df"
   ]
  },
  {
   "cell_type": "markdown",
   "id": "02b4b03c-0f6a-4154-9247-2e0e85af0074",
   "metadata": {
    "tags": []
   },
   "source": [
    "## Plot Adj Close"
   ]
  },
  {
   "cell_type": "code",
   "execution_count": 5,
   "id": "3e8ca1ba-86cf-46b3-8511-d21898915c8b",
   "metadata": {},
   "outputs": [],
   "source": [
    "date_index = [0,500,1000,1500,2000,2500,3000,3500]\n",
    "date_list = pd.to_datetime(df.loc[date_index]['Date']).dt.date.tolist()"
   ]
  },
  {
   "cell_type": "code",
   "execution_count": 6,
   "id": "68c3ab09-0b0e-497d-b90e-fe243743be91",
   "metadata": {},
   "outputs": [
    {
     "data": {
      "image/png": "[encoded data removed]",
      "text/plain": [
       "<Figure size 864x360 with 1 Axes>"
      ]
     },
     "metadata": {
      "needs_background": "light"
     },
     "output_type": "display_data"
    }
   ],
   "source": [
    "plt.figure(figsize=(12, 5))\n",
    "plt.plot(df.index, df['Adj Close'])\n",
    "plt.xticks(ticks=date_index, labels=date_list, rotation=45)\n",
    "plt.title('Plot of Adj Close')\n",
    "plt.xlabel('Date')\n",
    "plt.ylabel('Adj Close Price')\n",
    "plt.show()"
   ]
  },
  {
   "cell_type": "markdown",
   "id": "919c34ba-4083-4591-a9d3-4238b175b93d",
   "metadata": {
    "tags": []
   },
   "source": [
    "## Adding Technical Indicators\n",
    "\n",
    "I will be adding the technical indicator EMA_10 which will be the exponential moving average calculated over a 5 day period."
   ]
  },
  {
   "cell_type": "code",
   "execution_count": 9,
   "id": "d77c7646-2b2e-41c4-b2eb-48af9371d1ca",
   "metadata": {},
   "outputs": [
    {
     "name": "stdout",
     "output_type": "stream",
     "text": [
      "[X] Ooops!!! It's True, the series 'Adj_Close' was not found in Date, Adj Close, EMA_10\n"
     ]
    },
    {
     "data": {
      "text/html": [
       "<div>\n",
       "<style scoped>\n",
       "    .dataframe tbody tr th:only-of-type {\n",
       "        vertical-align: middle;\n",
       "    }\n",
       "\n",
       "    .dataframe tbody tr th {\n",
       "        vertical-align: top;\n",
       "    }\n",
       "\n",
       "    .dataframe thead th {\n",
       "        text-align: right;\n",
       "    }\n",
       "</style>\n",
       "<table border=\"1\" class=\"dataframe\">\n",
       "  <thead>\n",
       "    <tr style=\"text-align: right;\">\n",
       "      <th></th>\n",
       "      <th>Date</th>\n",
       "      <th>Adj Close</th>\n",
       "      <th>EMA_10</th>\n",
       "    </tr>\n",
       "  </thead>\n",
       "  <tbody>\n",
       "    <tr>\n",
       "      <th>0</th>\n",
       "      <td>2007-01-03</td>\n",
       "      <td>105.446762</td>\n",
       "      <td>NaN</td>\n",
       "    </tr>\n",
       "    <tr>\n",
       "      <th>1</th>\n",
       "      <td>2007-01-04</td>\n",
       "      <td>105.670479</td>\n",
       "      <td>NaN</td>\n",
       "    </tr>\n",
       "    <tr>\n",
       "      <th>2</th>\n",
       "      <td>2007-01-05</td>\n",
       "      <td>104.827637</td>\n",
       "      <td>NaN</td>\n",
       "    </tr>\n",
       "    <tr>\n",
       "      <th>3</th>\n",
       "      <td>2007-01-08</td>\n",
       "      <td>105.312469</td>\n",
       "      <td>NaN</td>\n",
       "    </tr>\n",
       "    <tr>\n",
       "      <th>4</th>\n",
       "      <td>2007-01-09</td>\n",
       "      <td>105.222977</td>\n",
       "      <td>NaN</td>\n",
       "    </tr>\n",
       "    <tr>\n",
       "      <th>...</th>\n",
       "      <td>...</td>\n",
       "      <td>...</td>\n",
       "      <td>...</td>\n",
       "    </tr>\n",
       "    <tr>\n",
       "      <th>3756</th>\n",
       "      <td>2021-12-02</td>\n",
       "      <td>457.399994</td>\n",
       "      <td>460.786017</td>\n",
       "    </tr>\n",
       "    <tr>\n",
       "      <th>3757</th>\n",
       "      <td>2021-12-03</td>\n",
       "      <td>453.420013</td>\n",
       "      <td>459.446743</td>\n",
       "    </tr>\n",
       "    <tr>\n",
       "      <th>3758</th>\n",
       "      <td>2021-12-06</td>\n",
       "      <td>458.790009</td>\n",
       "      <td>459.327337</td>\n",
       "    </tr>\n",
       "    <tr>\n",
       "      <th>3759</th>\n",
       "      <td>2021-12-07</td>\n",
       "      <td>468.279999</td>\n",
       "      <td>460.955094</td>\n",
       "    </tr>\n",
       "    <tr>\n",
       "      <th>3760</th>\n",
       "      <td>2021-12-08</td>\n",
       "      <td>468.679993</td>\n",
       "      <td>462.359621</td>\n",
       "    </tr>\n",
       "  </tbody>\n",
       "</table>\n",
       "<p>3761 rows × 3 columns</p>\n",
       "</div>"
      ],
      "text/plain": [
       "           Date   Adj Close      EMA_10\n",
       "0    2007-01-03  105.446762         NaN\n",
       "1    2007-01-04  105.670479         NaN\n",
       "2    2007-01-05  104.827637         NaN\n",
       "3    2007-01-08  105.312469         NaN\n",
       "4    2007-01-09  105.222977         NaN\n",
       "...         ...         ...         ...\n",
       "3756 2021-12-02  457.399994  460.786017\n",
       "3757 2021-12-03  453.420013  459.446743\n",
       "3758 2021-12-06  458.790009  459.327337\n",
       "3759 2021-12-07  468.279999  460.955094\n",
       "3760 2021-12-08  468.679993  462.359621\n",
       "\n",
       "[3761 rows x 3 columns]"
      ]
     },
     "execution_count": 9,
     "metadata": {},
     "output_type": "execute_result"
    }
   ],
   "source": [
    "df.ta.ema(close='Adj_Close',length = 10,append=True)\n",
    "#Inspect the data once again"
   ]
  },
  {
   "cell_type": "code",
   "execution_count": 59,
   "id": "79f24b7c-876f-46df-bed2-dcf95bbfd698",
   "metadata": {},
   "outputs": [
    {
     "name": "stdout",
     "output_type": "stream",
     "text": [
      "[X] Ooops!!! It's True, the series 'Adj_Close' was not found in Date, Adj Close, EMA_10, RSI_10, BBL_10_2.0, BBM_10_2.0, BBU_10_2.0, BBB_10_2.0, BBP_10_2.0\n"
     ]
    },
    {
     "data": {
      "text/html": [
       "<div>\n",
       "<style scoped>\n",
       "    .dataframe tbody tr th:only-of-type {\n",
       "        vertical-align: middle;\n",
       "    }\n",
       "\n",
       "    .dataframe tbody tr th {\n",
       "        vertical-align: top;\n",
       "    }\n",
       "\n",
       "    .dataframe thead th {\n",
       "        text-align: right;\n",
       "    }\n",
       "</style>\n",
       "<table border=\"1\" class=\"dataframe\">\n",
       "  <thead>\n",
       "    <tr style=\"text-align: right;\">\n",
       "      <th></th>\n",
       "      <th>Date</th>\n",
       "      <th>Adj Close</th>\n",
       "      <th>EMA_10</th>\n",
       "      <th>RSI_10</th>\n",
       "      <th>BBL_10_2.0</th>\n",
       "      <th>BBM_10_2.0</th>\n",
       "      <th>BBU_10_2.0</th>\n",
       "      <th>BBB_10_2.0</th>\n",
       "      <th>BBP_10_2.0</th>\n",
       "    </tr>\n",
       "  </thead>\n",
       "  <tbody>\n",
       "    <tr>\n",
       "      <th>19</th>\n",
       "      <td>2007-01-31</td>\n",
       "      <td>107.221954</td>\n",
       "      <td>106.435714</td>\n",
       "      <td>61.405977</td>\n",
       "      <td>NaN</td>\n",
       "      <td>NaN</td>\n",
       "      <td>NaN</td>\n",
       "      <td>NaN</td>\n",
       "      <td>NaN</td>\n",
       "    </tr>\n",
       "    <tr>\n",
       "      <th>20</th>\n",
       "      <td>2007-02-01</td>\n",
       "      <td>107.863457</td>\n",
       "      <td>106.695303</td>\n",
       "      <td>68.405266</td>\n",
       "      <td>NaN</td>\n",
       "      <td>NaN</td>\n",
       "      <td>NaN</td>\n",
       "      <td>NaN</td>\n",
       "      <td>NaN</td>\n",
       "    </tr>\n",
       "    <tr>\n",
       "      <th>21</th>\n",
       "      <td>2007-02-02</td>\n",
       "      <td>108.012581</td>\n",
       "      <td>106.934808</td>\n",
       "      <td>69.819021</td>\n",
       "      <td>NaN</td>\n",
       "      <td>NaN</td>\n",
       "      <td>NaN</td>\n",
       "      <td>NaN</td>\n",
       "      <td>NaN</td>\n",
       "    </tr>\n",
       "    <tr>\n",
       "      <th>22</th>\n",
       "      <td>2007-02-05</td>\n",
       "      <td>108.042450</td>\n",
       "      <td>107.136198</td>\n",
       "      <td>70.116613</td>\n",
       "      <td>NaN</td>\n",
       "      <td>NaN</td>\n",
       "      <td>NaN</td>\n",
       "      <td>NaN</td>\n",
       "      <td>NaN</td>\n",
       "    </tr>\n",
       "    <tr>\n",
       "      <th>23</th>\n",
       "      <td>2007-02-06</td>\n",
       "      <td>108.072289</td>\n",
       "      <td>107.306396</td>\n",
       "      <td>70.440135</td>\n",
       "      <td>NaN</td>\n",
       "      <td>NaN</td>\n",
       "      <td>NaN</td>\n",
       "      <td>NaN</td>\n",
       "      <td>NaN</td>\n",
       "    </tr>\n",
       "    <tr>\n",
       "      <th>...</th>\n",
       "      <td>...</td>\n",
       "      <td>...</td>\n",
       "      <td>...</td>\n",
       "      <td>...</td>\n",
       "      <td>...</td>\n",
       "      <td>...</td>\n",
       "      <td>...</td>\n",
       "      <td>...</td>\n",
       "      <td>...</td>\n",
       "    </tr>\n",
       "    <tr>\n",
       "      <th>3756</th>\n",
       "      <td>2021-12-02</td>\n",
       "      <td>457.399994</td>\n",
       "      <td>460.786017</td>\n",
       "      <td>43.898670</td>\n",
       "      <td>449.955306</td>\n",
       "      <td>463.085004</td>\n",
       "      <td>476.214701</td>\n",
       "      <td>5.670535</td>\n",
       "      <td>0.283506</td>\n",
       "    </tr>\n",
       "    <tr>\n",
       "      <th>3757</th>\n",
       "      <td>2021-12-03</td>\n",
       "      <td>453.420013</td>\n",
       "      <td>459.446743</td>\n",
       "      <td>39.403751</td>\n",
       "      <td>447.983641</td>\n",
       "      <td>461.454004</td>\n",
       "      <td>474.924367</td>\n",
       "      <td>5.838226</td>\n",
       "      <td>0.201790</td>\n",
       "    </tr>\n",
       "    <tr>\n",
       "      <th>3758</th>\n",
       "      <td>2021-12-06</td>\n",
       "      <td>458.790009</td>\n",
       "      <td>459.327337</td>\n",
       "      <td>47.467693</td>\n",
       "      <td>447.870566</td>\n",
       "      <td>460.444003</td>\n",
       "      <td>473.017441</td>\n",
       "      <td>5.461440</td>\n",
       "      <td>0.434227</td>\n",
       "    </tr>\n",
       "    <tr>\n",
       "      <th>3759</th>\n",
       "      <td>2021-12-07</td>\n",
       "      <td>468.279999</td>\n",
       "      <td>460.955094</td>\n",
       "      <td>58.350894</td>\n",
       "      <td>447.774503</td>\n",
       "      <td>460.515002</td>\n",
       "      <td>473.255502</td>\n",
       "      <td>5.533153</td>\n",
       "      <td>0.804737</td>\n",
       "    </tr>\n",
       "    <tr>\n",
       "      <th>3760</th>\n",
       "      <td>2021-12-08</td>\n",
       "      <td>468.679993</td>\n",
       "      <td>462.359621</td>\n",
       "      <td>58.751104</td>\n",
       "      <td>447.702614</td>\n",
       "      <td>460.564001</td>\n",
       "      <td>473.425389</td>\n",
       "      <td>5.585060</td>\n",
       "      <td>0.815518</td>\n",
       "    </tr>\n",
       "  </tbody>\n",
       "</table>\n",
       "<p>3742 rows × 9 columns</p>\n",
       "</div>"
      ],
      "text/plain": [
       "           Date   Adj Close      EMA_10     RSI_10  BBL_10_2.0  BBM_10_2.0  \\\n",
       "19   2007-01-31  107.221954  106.435714  61.405977         NaN         NaN   \n",
       "20   2007-02-01  107.863457  106.695303  68.405266         NaN         NaN   \n",
       "21   2007-02-02  108.012581  106.934808  69.819021         NaN         NaN   \n",
       "22   2007-02-05  108.042450  107.136198  70.116613         NaN         NaN   \n",
       "23   2007-02-06  108.072289  107.306396  70.440135         NaN         NaN   \n",
       "...         ...         ...         ...        ...         ...         ...   \n",
       "3756 2021-12-02  457.399994  460.786017  43.898670  449.955306  463.085004   \n",
       "3757 2021-12-03  453.420013  459.446743  39.403751  447.983641  461.454004   \n",
       "3758 2021-12-06  458.790009  459.327337  47.467693  447.870566  460.444003   \n",
       "3759 2021-12-07  468.279999  460.955094  58.350894  447.774503  460.515002   \n",
       "3760 2021-12-08  468.679993  462.359621  58.751104  447.702614  460.564001   \n",
       "\n",
       "      BBU_10_2.0  BBB_10_2.0  BBP_10_2.0  \n",
       "19           NaN         NaN         NaN  \n",
       "20           NaN         NaN         NaN  \n",
       "21           NaN         NaN         NaN  \n",
       "22           NaN         NaN         NaN  \n",
       "23           NaN         NaN         NaN  \n",
       "...          ...         ...         ...  \n",
       "3756  476.214701    5.670535    0.283506  \n",
       "3757  474.924367    5.838226    0.201790  \n",
       "3758  473.017441    5.461440    0.434227  \n",
       "3759  473.255502    5.533153    0.804737  \n",
       "3760  473.425389    5.585060    0.815518  \n",
       "\n",
       "[3742 rows x 9 columns]"
      ]
     },
     "execution_count": 59,
     "metadata": {},
     "output_type": "execute_result"
    }
   ],
   "source": [
    "df.ta.bbands(close='Adj_Close',length = 10,append=True)"
   ]
  },
  {
   "cell_type": "code",
   "execution_count": 60,
   "id": "f073c80e-2a68-4fb3-851e-78995731f5fd",
   "metadata": {},
   "outputs": [
    {
     "data": {
      "text/html": [
       "<div>\n",
       "<style scoped>\n",
       "    .dataframe tbody tr th:only-of-type {\n",
       "        vertical-align: middle;\n",
       "    }\n",
       "\n",
       "    .dataframe tbody tr th {\n",
       "        vertical-align: top;\n",
       "    }\n",
       "\n",
       "    .dataframe thead th {\n",
       "        text-align: right;\n",
       "    }\n",
       "</style>\n",
       "<table border=\"1\" class=\"dataframe\">\n",
       "  <thead>\n",
       "    <tr style=\"text-align: right;\">\n",
       "      <th></th>\n",
       "      <th>Date</th>\n",
       "      <th>Adj Close</th>\n",
       "      <th>EMA_10</th>\n",
       "      <th>RSI_10</th>\n",
       "      <th>BBL_10_2.0</th>\n",
       "      <th>BBM_10_2.0</th>\n",
       "      <th>BBU_10_2.0</th>\n",
       "      <th>BBB_10_2.0</th>\n",
       "      <th>BBP_10_2.0</th>\n",
       "    </tr>\n",
       "  </thead>\n",
       "  <tbody>\n",
       "    <tr>\n",
       "      <th>28</th>\n",
       "      <td>2007-02-13</td>\n",
       "      <td>107.900734</td>\n",
       "      <td>107.543351</td>\n",
       "      <td>58.481007</td>\n",
       "      <td>106.957226</td>\n",
       "      <td>107.795551</td>\n",
       "      <td>108.633875</td>\n",
       "      <td>1.555397</td>\n",
       "      <td>0.562734</td>\n",
       "    </tr>\n",
       "    <tr>\n",
       "      <th>29</th>\n",
       "      <td>2007-02-14</td>\n",
       "      <td>108.609322</td>\n",
       "      <td>107.737164</td>\n",
       "      <td>65.651644</td>\n",
       "      <td>107.063035</td>\n",
       "      <td>107.934287</td>\n",
       "      <td>108.805540</td>\n",
       "      <td>1.614413</td>\n",
       "      <td>0.887393</td>\n",
       "    </tr>\n",
       "    <tr>\n",
       "      <th>30</th>\n",
       "      <td>2007-02-15</td>\n",
       "      <td>108.751030</td>\n",
       "      <td>107.921503</td>\n",
       "      <td>66.921111</td>\n",
       "      <td>107.026857</td>\n",
       "      <td>108.023045</td>\n",
       "      <td>109.019232</td>\n",
       "      <td>1.844399</td>\n",
       "      <td>0.865386</td>\n",
       "    </tr>\n",
       "    <tr>\n",
       "      <th>31</th>\n",
       "      <td>2007-02-16</td>\n",
       "      <td>108.698830</td>\n",
       "      <td>108.062835</td>\n",
       "      <td>65.923886</td>\n",
       "      <td>107.016410</td>\n",
       "      <td>108.091669</td>\n",
       "      <td>109.166929</td>\n",
       "      <td>1.989533</td>\n",
       "      <td>0.782332</td>\n",
       "    </tr>\n",
       "    <tr>\n",
       "      <th>32</th>\n",
       "      <td>2007-02-20</td>\n",
       "      <td>108.930046</td>\n",
       "      <td>108.220510</td>\n",
       "      <td>68.252226</td>\n",
       "      <td>106.995165</td>\n",
       "      <td>108.180429</td>\n",
       "      <td>109.365693</td>\n",
       "      <td>2.191273</td>\n",
       "      <td>0.816224</td>\n",
       "    </tr>\n",
       "    <tr>\n",
       "      <th>...</th>\n",
       "      <td>...</td>\n",
       "      <td>...</td>\n",
       "      <td>...</td>\n",
       "      <td>...</td>\n",
       "      <td>...</td>\n",
       "      <td>...</td>\n",
       "      <td>...</td>\n",
       "      <td>...</td>\n",
       "      <td>...</td>\n",
       "    </tr>\n",
       "    <tr>\n",
       "      <th>3756</th>\n",
       "      <td>2021-12-02</td>\n",
       "      <td>457.399994</td>\n",
       "      <td>460.786017</td>\n",
       "      <td>43.898670</td>\n",
       "      <td>449.955306</td>\n",
       "      <td>463.085004</td>\n",
       "      <td>476.214701</td>\n",
       "      <td>5.670535</td>\n",
       "      <td>0.283506</td>\n",
       "    </tr>\n",
       "    <tr>\n",
       "      <th>3757</th>\n",
       "      <td>2021-12-03</td>\n",
       "      <td>453.420013</td>\n",
       "      <td>459.446743</td>\n",
       "      <td>39.403751</td>\n",
       "      <td>447.983641</td>\n",
       "      <td>461.454004</td>\n",
       "      <td>474.924367</td>\n",
       "      <td>5.838226</td>\n",
       "      <td>0.201790</td>\n",
       "    </tr>\n",
       "    <tr>\n",
       "      <th>3758</th>\n",
       "      <td>2021-12-06</td>\n",
       "      <td>458.790009</td>\n",
       "      <td>459.327337</td>\n",
       "      <td>47.467693</td>\n",
       "      <td>447.870566</td>\n",
       "      <td>460.444003</td>\n",
       "      <td>473.017441</td>\n",
       "      <td>5.461440</td>\n",
       "      <td>0.434227</td>\n",
       "    </tr>\n",
       "    <tr>\n",
       "      <th>3759</th>\n",
       "      <td>2021-12-07</td>\n",
       "      <td>468.279999</td>\n",
       "      <td>460.955094</td>\n",
       "      <td>58.350894</td>\n",
       "      <td>447.774503</td>\n",
       "      <td>460.515002</td>\n",
       "      <td>473.255502</td>\n",
       "      <td>5.533153</td>\n",
       "      <td>0.804737</td>\n",
       "    </tr>\n",
       "    <tr>\n",
       "      <th>3760</th>\n",
       "      <td>2021-12-08</td>\n",
       "      <td>468.679993</td>\n",
       "      <td>462.359621</td>\n",
       "      <td>58.751104</td>\n",
       "      <td>447.702614</td>\n",
       "      <td>460.564001</td>\n",
       "      <td>473.425389</td>\n",
       "      <td>5.585060</td>\n",
       "      <td>0.815518</td>\n",
       "    </tr>\n",
       "  </tbody>\n",
       "</table>\n",
       "<p>3733 rows × 9 columns</p>\n",
       "</div>"
      ],
      "text/plain": [
       "           Date   Adj Close      EMA_10     RSI_10  BBL_10_2.0  BBM_10_2.0  \\\n",
       "28   2007-02-13  107.900734  107.543351  58.481007  106.957226  107.795551   \n",
       "29   2007-02-14  108.609322  107.737164  65.651644  107.063035  107.934287   \n",
       "30   2007-02-15  108.751030  107.921503  66.921111  107.026857  108.023045   \n",
       "31   2007-02-16  108.698830  108.062835  65.923886  107.016410  108.091669   \n",
       "32   2007-02-20  108.930046  108.220510  68.252226  106.995165  108.180429   \n",
       "...         ...         ...         ...        ...         ...         ...   \n",
       "3756 2021-12-02  457.399994  460.786017  43.898670  449.955306  463.085004   \n",
       "3757 2021-12-03  453.420013  459.446743  39.403751  447.983641  461.454004   \n",
       "3758 2021-12-06  458.790009  459.327337  47.467693  447.870566  460.444003   \n",
       "3759 2021-12-07  468.279999  460.955094  58.350894  447.774503  460.515002   \n",
       "3760 2021-12-08  468.679993  462.359621  58.751104  447.702614  460.564001   \n",
       "\n",
       "      BBU_10_2.0  BBB_10_2.0  BBP_10_2.0  \n",
       "28    108.633875    1.555397    0.562734  \n",
       "29    108.805540    1.614413    0.887393  \n",
       "30    109.019232    1.844399    0.865386  \n",
       "31    109.166929    1.989533    0.782332  \n",
       "32    109.365693    2.191273    0.816224  \n",
       "...          ...         ...         ...  \n",
       "3756  476.214701    5.670535    0.283506  \n",
       "3757  474.924367    5.838226    0.201790  \n",
       "3758  473.017441    5.461440    0.434227  \n",
       "3759  473.255502    5.533153    0.804737  \n",
       "3760  473.425389    5.585060    0.815518  \n",
       "\n",
       "[3733 rows x 9 columns]"
      ]
     },
     "execution_count": 60,
     "metadata": {},
     "output_type": "execute_result"
    }
   ],
   "source": [
    "df= df.dropna()\n",
    "df"
   ]
  },
  {
   "cell_type": "markdown",
   "id": "ffbd3532-b91b-49cb-b54b-2b42527e3cbd",
   "metadata": {},
   "source": [
    "### Plotting the EMA_10 Alongside the adj_close"
   ]
  },
  {
   "cell_type": "code",
   "execution_count": 61,
   "id": "1cb69132-9029-4133-9107-b0edee63cfa8",
   "metadata": {},
   "outputs": [
    {
     "data": {
      "image/png": "[encoded data removed]",
      "text/plain": [
       "<Figure size 864x360 with 1 Axes>"
      ]
     },
     "metadata": {
      "needs_background": "light"
     },
     "output_type": "display_data"
    }
   ],
   "source": [
    "plt.figure(figsize=(12, 5))\n",
    "plt.plot(df.index, df['EMA_10'],label = \"EMA_10\",color = \"pink\")\n",
    "plt.plot(df.index, df['BBL_10_2.0'],label = \"RSI_10\",color = \"purple\")\n",
    "plt.plot(df.index, df['Adj Close'],label = \"Adj Close\",color = \"blue\",linestyle=\"-\")\n",
    "\n",
    "\n",
    "plt.xticks(ticks=date_index, labels=date_list, rotation=45)\n",
    "plt.title('EMA_10, RSI_10, Adj Close')\n",
    "plt.xlabel('Date')\n",
    "plt.ylabel('EMA_10')\n",
    "plt.show()"
   ]
  },
  {
   "cell_type": "markdown",
   "id": "8fa0e145-ae16-4eb2-ba01-cecb3310e15b",
   "metadata": {},
   "source": [
    "## Linear Regression"
   ]
  },
  {
   "cell_type": "markdown",
   "id": "cad34d78-d9a8-498e-b69e-beb76a6da619",
   "metadata": {
    "jp-MarkdownHeadingCollapsed": true,
    "tags": []
   },
   "source": [
    "The goal for this program is to be able to predict and determine the stock market price.\n",
    "\n",
    "Linear regression helps identitfy the relationships between a dependent variable and one or more independent variables. It is used to predict some sort of outcome according to a feature. \n",
    "\n",
    "In this algorithm, the features that will be selected is a technical indicator called EMA (Exponential Moving Average)\n",
    "\n",
    "\n",
    "### Technical Indicators:\n",
    "They are calculated values that describe movements in the historic pricing data such as stocks,these are used by investors to best determine whether they should buy,sell,or hold a stock.\n",
    "\n",
    "#### Exponential Moving Average\n",
    "The predictor variable I will be using for the linear regression.\n",
    "The EMA is a type of moving average that places a greater weight on the most recent data points so they are more reactive to the latest price changes.\n"
   ]
  },
  {
   "cell_type": "markdown",
   "id": "f379068c-1e58-44ca-aac9-dde43fe458f1",
   "metadata": {
    "tags": []
   },
   "source": [
    "### Independent Variables\n",
    "\n",
    "The independent variables are the RSI and EMA."
   ]
  },
  {
   "cell_type": "markdown",
   "id": "15a329a1-1bbb-4ce0-a7c2-d1688aa6f10c",
   "metadata": {},
   "source": [
    "### Dependent Variables\n",
    "\n",
    "The dependent variable is going to be what we are trying to predict which is going to be the price.\n"
   ]
  },
  {
   "cell_type": "markdown",
   "id": "8de2b067-5086-400a-94eb-f8d6225bc0b5",
   "metadata": {},
   "source": [
    "## Training the Model"
   ]
  },
  {
   "cell_type": "markdown",
   "id": "9b2174d4-eb1e-4311-8dbd-c675191c5386",
   "metadata": {
    "tags": []
   },
   "source": [
    "### Test_Train Split\n",
    "\n",
    "This is where will be dividing two sets of data, the first will be the training data and the testing data. \n",
    "\n",
    "In this model 80% will be used for training and the remaining 20% will be used for testing."
   ]
  },
  {
   "cell_type": "code",
   "execution_count": 62,
   "id": "75d63350-b3c8-4e18-b508-132fe9f7edd4",
   "metadata": {},
   "outputs": [],
   "source": [
    "\n",
    "X=df[['EMA_10','BBL_10_2.0']]\n",
    "y=df['Adj Close']\n",
    "\n",
    "X_train, X_test, y_train, y_test = train_test_split(X,y, test_size=.2)\n"
   ]
  },
  {
   "cell_type": "code",
   "execution_count": 63,
   "id": "7ff0c43a-b7dd-4374-8c00-73454936d327",
   "metadata": {},
   "outputs": [],
   "source": [
    "logreg = LinearRegression()"
   ]
  },
  {
   "cell_type": "code",
   "execution_count": 64,
   "id": "142dd262-ccbb-4571-82b8-12f0142d4dc9",
   "metadata": {},
   "outputs": [
    {
     "data": {
      "text/plain": [
       "LinearRegression()"
      ]
     },
     "execution_count": 64,
     "metadata": {},
     "output_type": "execute_result"
    }
   ],
   "source": [
    "logreg.fit(X_train,y_train)"
   ]
  },
  {
   "cell_type": "code",
   "execution_count": 65,
   "id": "d7e9cf39-2504-44f1-b5c3-f543466a61a2",
   "metadata": {},
   "outputs": [],
   "source": [
    "y_pred = logreg.predict(X_test)"
   ]
  },
  {
   "cell_type": "markdown",
   "id": "595415da-4ca1-4fd9-bc48-45bcc854b909",
   "metadata": {},
   "source": [
    "## Printout relevant metrics\n"
   ]
  },
  {
   "cell_type": "code",
   "execution_count": 66,
   "id": "e76844e4-6258-46b9-aa84-8b531ea04ab6",
   "metadata": {},
   "outputs": [
    {
     "name": "stdout",
     "output_type": "stream",
     "text": [
      "Model Coefficients: [0.88184623 0.12568235]\n",
      "Mean Absolute Error: 1.894772639070098\n",
      "Coefficient of Determination: 0.9990141327377514\n"
     ]
    }
   ],
   "source": [
    "print(\"Model Coefficients:\", logreg.coef_)\n",
    "print(\"Mean Absolute Error:\", mean_absolute_error(y_test, y_pred))\n",
    "print(\"Coefficient of Determination:\", r2_score(y_test, y_pred))"
   ]
  },
  {
   "cell_type": "code",
   "execution_count": 67,
   "id": "1c72f5fe-5aac-4f84-987c-4ba979703926",
   "metadata": {},
   "outputs": [
    {
     "data": {
      "image/png": "[encoded data removed]",
      "text/plain": [
       "<Figure size 864x432 with 1 Axes>"
      ]
     },
     "metadata": {
      "needs_background": "light"
     },
     "output_type": "display_data"
    }
   ],
   "source": [
    "# Plot regression against actual data\n",
    "plt.figure(figsize=(12, 6))\n",
    "plt.plot(X_test, y_pred)     # regression line\n",
    "plt.plot(X_test, y_test, 'ro')   # scatter plot showing actual data\n",
    "plt.title('Actual vs Predicted')\n",
    "plt.xlabel('X')\n",
    "plt.ylabel('y')\n",
    "\n",
    "plt.show()"
   ]
  },
  {
   "cell_type": "code",
   "execution_count": 68,
   "id": "616a03bc-a198-4ff3-b201-5bff473cf973",
   "metadata": {},
   "outputs": [
    {
     "name": "stdout",
     "output_type": "stream",
     "text": [
      "alpha = -0.41807146984859855\n",
      "betas = [0.88184623 0.12568235]\n"
     ]
    }
   ],
   "source": [
    "print(f'alpha = {logreg.intercept_}')\n",
    "print(f'betas = {logreg.coef_}')"
   ]
  },
  {
   "cell_type": "code",
   "execution_count": 70,
   "id": "47a54fa1-29cb-4570-9a3f-8e8bff32e04d",
   "metadata": {},
   "outputs": [
    {
     "data": {
      "text/plain": [
       "array([412.65856379])"
      ]
     },
     "execution_count": 70,
     "metadata": {},
     "output_type": "execute_result"
    }
   ],
   "source": [
    "Based off the data that can"
   ]
  },
  {
   "cell_type": "code",
   "execution_count": 72,
   "id": "b6bf4f04-d933-40e3-a369-cfdeffefcc61",
   "metadata": {},
   "outputs": [
    {
     "data": {
      "text/plain": [
       "array([413.63970873])"
      ]
     },
     "execution_count": 72,
     "metadata": {},
     "output_type": "execute_result"
    }
   ],
   "source": []
  },
  {
   "cell_type": "code",
   "execution_count": null,
   "id": "bbf050d5-fe57-4aa7-a73c-aba7a081630f",
   "metadata": {},
   "outputs": [],
   "source": []
  }
 ],
 "metadata": {
  "kernelspec": {
   "display_name": "Python 3 (ipykernel)",
   "language": "python",
   "name": "python3"
  },
  "language_info": {
   "codemirror_mode": {
    "name": "ipython",
    "version": 3
   },
   "file_extension": ".py",
   "mimetype": "text/x-python",
   "name": "python",
   "nbconvert_exporter": "python",
   "pygments_lexer": "ipython3",
   "version": "3.10.0"
  }
 },
 "nbformat": 4,
 "nbformat_minor": 5
}
